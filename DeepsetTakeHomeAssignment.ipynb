{
  "nbformat": 4,
  "nbformat_minor": 0,
  "metadata": {
    "colab": {
      "provenance": [],
      "authorship_tag": "ABX9TyP6sWWDooM4fYj35cHi3N9Z",
      "include_colab_link": true
    },
    "kernelspec": {
      "name": "python3",
      "display_name": "Python 3"
    },
    "language_info": {
      "name": "python"
    }
  },
  "cells": [
    {
      "cell_type": "markdown",
      "metadata": {
        "id": "view-in-github",
        "colab_type": "text"
      },
      "source": [
        "<a href=\"https://colab.research.google.com/github/seanryankeegan/examples/blob/main/DeepsetTakeHomeAssignment.ipynb\" target=\"_parent\"><img src=\"https://colab.research.google.com/assets/colab-badge.svg\" alt=\"Open In Colab\"/></a>"
      ]
    },
    {
      "cell_type": "markdown",
      "source": [
        "# Exploring a Basic Retriever in Haystack\n",
        "\n",
        "### **Introduction**\n",
        "\n",
        "As an aspiring developer advocate for Deepset, I've been tasked with creating a take-home assignment that showcases the capabilities of Haystack, Deepset's open-source framework for building search and question-answering systems. In this example, we explore the functionality of a basic retriever in Haystack. We will set up an `InMemoryDocumentStore` and populate it with sample movie documents. Subsequently, we will use the [BM25Retriever](https://docs.haystack.deepset.ai/v1.22-unstable/docs/retriever#bm25-recommended) to perform document retrieval based on query input. It's important to note that we will not be incorporating any advanced ranking models like CohereRanker or DiversityRanker in this demonstration. Instead, we focus on the fundamental retrieval process using a retriever.\n",
        "\n",
        "  \n",
        "  \n",
        "### **Setting Up the Environment**\n",
        "\n",
        "Let's start by ensuring developers have the necessary libraries installed for their environment:"
      ],
      "metadata": {
        "id": "Ojc8bKT1Tc-s"
      }
    },
    {
      "cell_type": "code",
      "source": [
        "!pip install farm-haystack[colab,inference]"
      ],
      "metadata": {
        "id": "v4vqpzU1UjTs"
      },
      "execution_count": null,
      "outputs": []
    },
    {
      "cell_type": "markdown",
      "source": [
        "This code block sets up the environment by installing the required packages.\n",
        "\n",
        "### **Creating an In-Memory Document Store**\n",
        "\n",
        "Now, we'll create an in-memory document store using Haystack's `InMemoryDocumentStore`. The document store is the repository for the documents that our search system will query."
      ],
      "metadata": {
        "id": "TsY1rxa9UkzA"
      }
    },
    {
      "cell_type": "code",
      "source": [
        "from haystack import Document\n",
        "from haystack.document_stores import InMemoryDocumentStore\n",
        "\n",
        "# Initialize the Document Store\n",
        "document_store = InMemoryDocumentStore(use_bm25=True)\n"
      ],
      "metadata": {
        "id": "-XS4NO6OWHqB"
      },
      "execution_count": 2,
      "outputs": []
    },
    {
      "cell_type": "markdown",
      "source": [
        "The in-memory document store is initialized, and BM25 (a ranking function) is enabled.\n",
        "\n",
        "### **Adding Sample Documents**\n",
        "\n",
        "We add sample documents to the document store. These documents represent movies and their Rotten Tomatoes ratings. In practice, you would replace these samples with real data."
      ],
      "metadata": {
        "id": "_9RM5YXIWLfC"
      }
    },
    {
      "cell_type": "code",
      "source": [
        "sample_documents = [\n",
        "    # Sample movie documents here...\n",
        "]\n",
        "\n",
        "# A string of movie titles with their Rotten Tomatoes ranking and one sentence summmary is available here to test out:\n",
        "# \"Gladiator (Rotten Tomatoes Rating: 77%): A betrayed Roman general seeks vengeance in the gladiatorial arena\", \"The Matrix (Rotten Tomatoes Rating: 88%): Neo discovers the truth about his reality and joins a rebellion against machines\", \"Eternal Sunshine of the Spotless Mind (Rotten Tomatoes Rating: 93%): Joel undergoes a procedure to erase memories of a failed relationship\", \"Schindler's List (Rotten Tomatoes Rating: 97%): Oskar Schindler saves Jews from the Holocaust by employing them in his factory\", \"The Dark Knight (Rotten Tomatoes Rating: 94%): Batman faces off against the Joker in a battle of chaos and morality\", \"Inglourious Basterds (Rotten Tomatoes Rating: 89%): A group of Jewish-American soldiers plot to assassinate Hitler during World War II\", \"Avatar (Rotten Tomatoes Rating: 82%): Humans clash with the Na'vi on the planet Pandora in a struggle for resources\", \"The Silence of the Lambs (Rotten Tomatoes Rating: 96%): FBI agent Clarice Starling consults with Hannibal Lecter to catch a serial killer\", \"Fight Club (Rotten Tomatoes Rating: 79%): An insomniac forms an underground fight club and unravels a dark conspiracy\", \"Braveheart (Rotten Tomatoes Rating: 78%): William Wallace leads a Scottish rebellion against English oppression\", \"Good Will Hunting (Rotten Tomatoes Rating: 97%): A janitor with hidden genius receives therapy and discovers his potential\", \"Jurassic Park (Rotten Tomatoes Rating: 92%): A theme park with cloned dinosaurs descends into chaos when they break free\", \"The Departed (Rotten Tomatoes Rating: 90%): Undercover agents infiltrate the Irish mob in Boston, leading to a deadly cat-and-mouse game\", \"The Great Gatsby (Rotten Tomatoes Rating: 48%): Jay Gatsby's extravagant parties and pursuit of lost love, Daisy, end tragically\", \"Schindler's List (Rotten Tomatoes Rating: 97%): Oskar Schindler saves Jews from the Holocaust by employing them in his factory\", \"The Green Mile (Rotten Tomatoes Rating: 78%): A death row prison guard encounters a miraculous inmate with healing powers\", \"Seven (Rotten Tomatoes Rating: 82%): Detectives hunt a serial killer who uses the seven deadly sins as his motive\", \"The Revenant (Rotten Tomatoes Rating: 78%): A frontiersman fights for survival and revenge in the wilderness after a bear attack\", \"A Beautiful Mind (Rotten Tomatoes Rating: 74%): Mathematician John Nash struggles with schizophrenia while making groundbreaking discoveries\", \"Saving Private Ryan (Rotten Tomatoes Rating: 93%): A group of soldiers search for the last surviving brother after D-Day\", \"The Sixth Sense (Rotten Tomatoes Rating: 86%): A child psychologist helps a young boy who claims to see the dead\", \"Memento (Rotten Tomatoes Rating: 85%): A man with short-term memory loss seeks his wife's killer, relying on Polaroid photographs\", \"Schindler's List (Rotten Tomatoes Rating: 97%): Oskar Schindler saves Jews from the Holocaust by employing them in his factory\", \"The Green Mile (Rotten Tomatoes Rating: 78%): A death row prison guard encounters a miraculous inmate with healing powers\", \"Gladiator (Rotten Tomatoes Rating: 77%): A betrayed Roman general seeks vengeance in the gladiatorial arena\", \"A Beautiful Mind (Rotten Tomatoes Rating: 74%): Mathematician John Nash struggles with schizophrenia while making groundbreaking discoveries\", \"The Dark Knight (Rotten Tomatoes Rating: 94%): Batman faces off against the Joker in a battle of chaos and morality\", \"The Shawshank Redemption (Rotten Tomatoes Rating: 91%): A man escapes prison, forming a deep friendship while pursuing freedom\", \"Avatar (Rotten Tomatoes Rating: 82%): Humans clash with the Na'vi on the planet Pandora in a struggle for resources\", \"Inception (Rotten Tomatoes Rating: 87%): A thief enters people's dreams to steal secrets and plant ideas\", \"Pulp Fiction (Rotten Tomatoes Rating: 92%): Intersecting stories of crime, redemption, and absurdity in a non-linear narrative\", \"Forrest Gump (Rotten Tomatoes Rating: 71%): Forrest's journey through life is marked by love, adventures, and profound simplicity\", \"Jurassic Park (Rotten Tomatoes Rating: 91%): A theme park with cloned dinosaurs descends into chaos when they break free\", \"The Silence of the Lambs (Rotten Tomatoes Rating: 96%): FBI agent Clarice Starling consults with Hannibal Lecter to catch a serial killer\", \"Eternal Sunshine of the Spotless Mind (Rotten Tomatoes Rating: 93%): Joel undergoes a procedure to erase memories of a failed relationship\", \"The Godfather (Rotten Tomatoes Rating: 98%): The Corleone family's patriarch, Vito, navigates power, loyalty, and crime\", \"The Revenant (Rotten Tomatoes Rating: 79%): A frontiersman fights for survival and revenge in the wilderness after a bear attack\", \"Fight Club (Rotten Tomatoes Rating: 79%): An insomniac forms an underground fight club and unravels a dark conspiracy\", \"Memento (Rotten Tomatoes Rating: 85%): A man with short-term memory loss seeks his wife's killer, relying on Polaroid photographs\", \"Good Will Hunting (Rotten Tomatoes Rating: 97%): A janitor with hidden genius receives therapy and discovers his potential\", \"Seven (Rotten Tomatoes Rating: 81%): Detectives hunt a serial killer who uses the seven deadly sins as his motive\", \"The Great Gatsby (Rotten Tomatoes Rating: 48%\"\n",
        "\n",
        "\n",
        "documents = [Document(content=text) for text in sample_documents]\n",
        "document_store.write_documents(documents)\n"
      ],
      "metadata": {
        "id": "aKro9a2rWSY-"
      },
      "execution_count": null,
      "outputs": []
    },
    {
      "cell_type": "markdown",
      "source": [
        "This code block populates the document store with sample movie documents. The documents are wrapped in the Document class provided by Haystack.\n",
        "\n",
        "### **Initializing the BM25 Retriever**\n",
        "\n",
        "The BM25 retriever is used to retrieve relevant documents based on a query. We initialize it as follows:"
      ],
      "metadata": {
        "id": "t9NyhS-YWvHQ"
      }
    },
    {
      "cell_type": "code",
      "source": [
        "from haystack.nodes import BM25Retriever\n",
        "\n",
        "# Initialize the BM25 Retriever\n",
        "retriever = BM25Retriever(document_store)"
      ],
      "metadata": {
        "id": "xxHM2IU2W0Jx"
      },
      "execution_count": 4,
      "outputs": []
    },
    {
      "cell_type": "markdown",
      "source": [
        "The BM25 retriever is initialized and connected to the document store.\n",
        "\n",
        "### **Creating a Document Search Pipeline**\n",
        "Now, we create a search pipeline that combines the retriever with other components for document ranking. This pipeline allows us to perform searches efficiently."
      ],
      "metadata": {
        "id": "qxL5tgoaW3GZ"
      }
    },
    {
      "cell_type": "code",
      "source": [
        "from haystack.pipelines import DocumentSearchPipeline\n",
        "\n",
        "# Initialize the Document Search Pipeline\n",
        "pipeline = DocumentSearchPipeline(retriever=retriever)"
      ],
      "metadata": {
        "id": "cLMGbFLRXLBs"
      },
      "execution_count": 5,
      "outputs": []
    },
    {
      "cell_type": "markdown",
      "source": [
        "The document search pipeline is initialized with the BM25 retriever.\n",
        "\n",
        "### **Performing a Document Search**\n",
        "\n",
        "With the environment set up and the pipeline ready, we can perform a document search. Let's search for movies related to war."
      ],
      "metadata": {
        "id": "kJFVVbbBXUAy"
      }
    },
    {
      "cell_type": "code",
      "source": [
        "query = \"Which movie is about war?\"\n",
        "result = pipeline.run(query=query)"
      ],
      "metadata": {
        "id": "VLlYPd2hXZf9"
      },
      "execution_count": 12,
      "outputs": []
    },
    {
      "cell_type": "markdown",
      "source": [
        "A search is performed with the query, and the results are stored in the result variable.\n",
        "\n",
        "### **Displaying Search Results**\n",
        "\n",
        "We can now display the search results. In this case, we'll print out the content of the retrieved documents."
      ],
      "metadata": {
        "id": "emHXCYFqXepu"
      }
    },
    {
      "cell_type": "code",
      "source": [
        "for doc in result[\"documents\"]:\n",
        "    print(f\"Document Text: {doc.content}\")"
      ],
      "metadata": {
        "id": "pw85CKm1Xhfr"
      },
      "execution_count": null,
      "outputs": []
    },
    {
      "cell_type": "markdown",
      "source": [
        "This loop prints the content of each document in the search results.\n",
        "\n",
        "### **Conclusion**\n",
        "\n",
        "In this assignment, we've introduced developers to Haystack and walked them through the process of setting up a document store, initializing a retriever, and performing a search. Developers can use this assignment to familiarize themselves with Haystack's capabilities and explore more advanced features like different rankers and question-answering systems. The possibilities are endless, and Haystack provides a robust foundation for building intelligent search and QA applications.\n",
        "\n",
        "\n",
        "\n",
        "Feel free to reach out for any questions or clarifications. Happy coding!"
      ],
      "metadata": {
        "id": "IQWp6sBaXkXj"
      }
    }
  ]
}